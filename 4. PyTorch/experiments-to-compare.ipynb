{
 "cells": [
  {
   "cell_type": "markdown",
   "metadata": {},
   "source": [
    "# Exercise c, d: 기존의 모델과 새로운 모델 비교 실험\n",
    "\n",
    "이 파일은 기존의 모델($w \\times t_u + b$)과 새로운 모델($w_2 \\times t_u^2 + w_1 \\times t_u + b$)의 성능 차이를 평가하기 위한 실험 코드를 저장한 파일이다.\n",
    "\n",
    "**Exercise의 문항 c, d번을 답하기 위해 사용된다.**"
   ]
  },
  {
   "cell_type": "markdown",
   "metadata": {},
   "source": [
    "## 1. 실험 준비\n",
    "\n",
    "실험 진행을 위한 기본적인 함수와 데이터를 정의한다."
   ]
  },
  {
   "cell_type": "markdown",
   "metadata": {},
   "source": [
    "### 1-1. 패키지 Import\n",
    "\n",
    "기본적인 PyTorch 패키지를 비롯하여, Type hinting을 위한 패키지와 그래프를 그리기 위한 matplotlib 등을 모두 Import 한다."
   ]
  },
  {
   "cell_type": "code",
   "execution_count": 298,
   "metadata": {},
   "outputs": [],
   "source": [
    "%matplotlib inline\n",
    "import torch\n",
    "from torch import Tensor\n",
    "import torch.optim as optim\n",
    "from typing import Callable, Dict, List\n",
    "from dataclasses import dataclass\n",
    "from matplotlib import pyplot as plt"
   ]
  },
  {
   "cell_type": "markdown",
   "metadata": {},
   "source": [
    "### 1-2. 모델 정의\n",
    "\n",
    "`original_model` 함수는 기존의 모델, `redefined_model` 함수는 새로운 모델을 나타낸다. 두 함수의 인자에 차이가 있음을 알 수 있다."
   ]
  },
  {
   "cell_type": "code",
   "execution_count": 299,
   "metadata": {},
   "outputs": [],
   "source": [
    "# t_u: Input Tensor\n",
    "# w: Weight parameters, b: Bias \n",
    "def original_model(t_u: Tensor, w: Tensor, b: Tensor) -> Tensor:\n",
    "    return w * t_u + b\n",
    "\n",
    "# t_u: Input Tensor\n",
    "# w: Weight parameters, b: Bias \n",
    "def redefined_model(t_u: Tensor, w1: Tensor, w2: Tensor, b: Tensor) -> Tensor:\n",
    "    return (w2 * t_u ** 2) + (w1 * t_u) + b"
   ]
  },
  {
   "cell_type": "markdown",
   "metadata": {},
   "source": [
    "### 1-3. Loss Function 정의\n",
    "\n",
    "예측값과 정답의 오차를 제곱한 값으로, 기존의 Loss function을 그대로 이용한다."
   ]
  },
  {
   "cell_type": "code",
   "execution_count": 300,
   "metadata": {},
   "outputs": [],
   "source": [
    "def loss_fn(t_p: Tensor, t_c: Tensor) -> Tensor:\n",
    "    squared_diffs = (t_p - t_c)**2\n",
    "    return squared_diffs.mean()"
   ]
  },
  {
   "cell_type": "markdown",
   "metadata": {},
   "source": [
    "### 1-4. 학습을 위한 함수 정의\n",
    "\n",
    "`training_loop` 는 모델과 Optimizer를 인자로 받고, 입력받은 모델에 맞게 주어진 Epoch 수 만큼 파라미터를 최적화시킨다. 학습 결과는 `TrainingResult` 라는 클래스로 반환하는데, 이 클래스에는 최적화된 파라미터 Tensor와 Training Loss, Validation Loss의 리스트를 담고 있다.\n",
    "\n",
    "기존의 로직에서 크게 바뀐 사항은 없으며, 단지 모델과 Optimizer를 파라미터로 받고, 반환 객체에 Loss 리스트를 추가한 것이 변동사항의 전부이다."
   ]
  },
  {
   "cell_type": "code",
   "execution_count": 301,
   "metadata": {},
   "outputs": [],
   "source": [
    "@dataclass\n",
    "class TrainingResult:\n",
    "    params: Tensor\n",
    "    train_loss_list: List[float]\n",
    "    val_loss_list: List[float]"
   ]
  },
  {
   "cell_type": "code",
   "execution_count": 302,
   "metadata": {},
   "outputs": [],
   "source": [
    "def training_loop(n_epochs: int, optimizer: optim.Optimizer, params: Tensor, model: Callable,\n",
    "                  train_t_u: Tensor, val_t_u: Tensor,\n",
    "                  train_t_c: Tensor, val_t_c: Tensor, print_log: bool=False) -> TrainingResult:\n",
    "    train_loss_result = [0 for _ in range(n_epochs)]\n",
    "    val_loss_result = [0 for _ in range(n_epochs)]\n",
    "\n",
    "    for epoch in range(1, n_epochs + 1):\n",
    "        train_t_p = model(train_t_u, *params)\n",
    "        train_loss = loss_fn(train_t_p, train_t_c)\n",
    "        train_loss_result[epoch-1] = float(train_loss.item())\n",
    "                             \n",
    "        val_t_p = model(val_t_u, *params)\n",
    "        val_loss = loss_fn(val_t_p, val_t_c)\n",
    "        val_loss_result[epoch-1] = float(val_loss.item())\n",
    "        \n",
    "        optimizer.zero_grad()\n",
    "        train_loss.backward()\n",
    "        optimizer.step()\n",
    "\n",
    "        if print_log and (epoch <= 3 or epoch % 500 == 0):\n",
    "            print(f\"Epoch {epoch}, Training loss {train_loss.item():.4f},\"\n",
    "                  f\" Validation loss {val_loss.item():.4f}\")\n",
    "            \n",
    "    return TrainingResult(params, train_loss_result, val_loss_result)"
   ]
  },
  {
   "cell_type": "markdown",
   "metadata": {},
   "source": [
    "### 1-5. 데이터셋 준비\n",
    "\n",
    "데이터를 랜덤 셔플한 뒤 입력 데이터에 정규화를 시행한다."
   ]
  },
  {
   "cell_type": "code",
   "execution_count": 303,
   "metadata": {},
   "outputs": [],
   "source": [
    "def prepare_dataset() -> Dict[str, Tensor]:\n",
    "    t_c = torch.tensor([0.5, 14.0, 15.0, 28.0, 11.0,\n",
    "                    8.0, 3.0, -4.0, 6.0, 13.0, 21.0])\n",
    "    t_u = torch.tensor([35.7, 55.9, 58.2, 81.9, 56.3, 48.9,\n",
    "                        33.9, 21.8, 48.4, 60.4, 68.4])\n",
    "\n",
    "    n_samples = t_u.shape[0]\n",
    "    n_val = int(0.2 * n_samples)\n",
    "\n",
    "    shuffled_indices = torch.randperm(n_samples)\n",
    "\n",
    "    train_indices = shuffled_indices[:-n_val]\n",
    "    val_indices = shuffled_indices[-n_val:]\n",
    "\n",
    "    train_indices, val_indices\n",
    "\n",
    "    train_t_u = t_u[train_indices]\n",
    "    train_t_c = t_c[train_indices]\n",
    "\n",
    "    val_t_u = t_u[val_indices]\n",
    "    val_t_c = t_c[val_indices]\n",
    "\n",
    "    train_t_un = 0.1 * train_t_u\n",
    "    val_t_un = 0.1 * val_t_u\n",
    "\n",
    "    return {\n",
    "        \"train_t_u\": train_t_un,\n",
    "        \"val_t_u\": val_t_un,\n",
    "        \"train_t_c\":  train_t_c,\n",
    "        \"val_t_c\": val_t_c\n",
    "    }\n",
    "\n",
    "dataset = prepare_dataset()"
   ]
  },
  {
   "cell_type": "markdown",
   "metadata": {},
   "source": [
    "## 2. 비교 실험 진행\n",
    "\n",
    "두 모델에 대하여 같은 조건으로 비교 실험을 진행한다.\n",
    "\n",
    "* Epoch: $1,000$\n",
    "* Learning Rate: $10^{-1}$\n",
    "* Optimizer: Adam"
   ]
  },
  {
   "cell_type": "code",
   "execution_count": 304,
   "metadata": {},
   "outputs": [],
   "source": [
    "N_EPOCHS = 1000\n",
    "LEARNING_RATE = 1e-1"
   ]
  },
  {
   "cell_type": "markdown",
   "metadata": {},
   "source": [
    "### 2-1. 기존의 모델\n",
    "\n",
    "`experiment_original` 함수는 기존의 모델에 맞게 파라미터 최적화를 시행한다."
   ]
  },
  {
   "cell_type": "code",
   "execution_count": 305,
   "metadata": {},
   "outputs": [
    {
     "name": "stdout",
     "output_type": "stream",
     "text": [
      "Epoch 1, Training loss 51.4150, Validation loss 210.6365\n",
      "Epoch 2, Training loss 45.8208, Validation loss 189.5128\n",
      "Epoch 3, Training loss 40.9619, Validation loss 169.7757\n",
      "Epoch 500, Training loss 2.9175, Validation loss 3.6702\n",
      "Epoch 1000, Training loss 2.9111, Validation loss 3.3966\n"
     ]
    }
   ],
   "source": [
    "def experiment_original(print_log: bool=False) -> TrainingResult:\n",
    "    params = torch.tensor([1.0, 0.0], requires_grad=True)\n",
    "    optimizer = optim.Adam([params], lr=LEARNING_RATE)\n",
    "\n",
    "    return training_loop(\n",
    "        n_epochs=N_EPOCHS,\n",
    "        optimizer=optimizer,\n",
    "        params=params,\n",
    "        model=original_model,\n",
    "        print_log=print_log,\n",
    "        **dataset\n",
    "    )\n",
    "\n",
    "original_result = experiment_original(True)"
   ]
  },
  {
   "cell_type": "markdown",
   "metadata": {},
   "source": [
    "### 2-2. 새로운 모델\n",
    "\n",
    "`experiment_redefined` 함수는 새로운 모델에 맞게 파라미터 최적화를 시행한다."
   ]
  },
  {
   "cell_type": "code",
   "execution_count": 306,
   "metadata": {},
   "outputs": [
    {
     "name": "stdout",
     "output_type": "stream",
     "text": [
      "Epoch 1, Training loss 51.4150, Validation loss 210.6365\n",
      "Epoch 2, Training loss 23.1888, Validation loss 75.3991\n",
      "Epoch 3, Training loss 17.3617, Validation loss 15.7157\n",
      "Epoch 500, Training loss 2.1791, Validation loss 13.3067\n",
      "Epoch 1000, Training loss 2.1270, Validation loss 10.2992\n"
     ]
    }
   ],
   "source": [
    "def experiment_redefined(print_log: bool=False) -> TrainingResult:\n",
    "    params = torch.tensor([1.0, 0.0, 0.0], requires_grad=True)\n",
    "    optimizer = optim.Adam([params], lr=LEARNING_RATE)\n",
    "\n",
    "    return training_loop(\n",
    "        n_epochs=N_EPOCHS,\n",
    "        optimizer=optimizer,\n",
    "        params=params,\n",
    "        model=redefined_model,\n",
    "        print_log=print_log,\n",
    "        **dataset\n",
    "    )\n",
    "\n",
    "redefined_result = experiment_redefined(True)"
   ]
  },
  {
   "cell_type": "markdown",
   "metadata": {},
   "source": [
    "### 2-3. 두 모델의 Loss Graph 비교\n",
    "\n",
    "두 모델의 파라미터를 최적화하는 과정에서 나타난 Loss 값을 $x$ 축을 Epoch으로 하여 그래프를 그린다."
   ]
  },
  {
   "cell_type": "code",
   "execution_count": 307,
   "metadata": {},
   "outputs": [
    {
     "data": {
      "image/png": "[encoded data removed]",
      "text/plain": [
       "<Figure size 1008x360 with 2 Axes>"
      ]
     },
     "metadata": {
      "needs_background": "light"
     },
     "output_type": "display_data"
    }
   ],
   "source": [
    "def plot_loss(cell: plt.Axes, loss_data: TrainingResult):\n",
    "    cell.plot(range(1, N_EPOCHS+1), loss_data.train_loss_list, color=\"blue\", label=\"Training Loss\")\n",
    "    cell.plot(range(1, N_EPOCHS+1), loss_data.val_loss_list, color=\"red\", label=\"Validation Loss\")\n",
    "    cell.legend(loc=\"upper right\")\n",
    "\n",
    "fig = plt.figure(figsize=(14, 5))\n",
    "\n",
    "ax1 = fig.add_subplot(121)\n",
    "plot_loss(ax1, original_result)\n",
    "ax1.set_title(\"Original Model\")\n",
    "\n",
    "ax2 = fig.add_subplot(122)\n",
    "plot_loss(ax2, redefined_result)\n",
    "ax2.set_title(\"Redefined Model\")\n",
    "\n",
    "plt.show()"
   ]
  },
  {
   "cell_type": "markdown",
   "metadata": {},
   "source": [
    "### 2-4. 반복 실험\n",
    "\n",
    "20회 같은 실험을 반복하면서 Validation Loss가 Training Loss보다 평균적으로 몇 퍼센트나 높았는지 측정한다."
   ]
  },
  {
   "cell_type": "code",
   "execution_count": 308,
   "metadata": {},
   "outputs": [
    {
     "name": "stdout",
     "output_type": "stream",
     "text": [
      "After 20 experiments...\n",
      "\tOriginal: Validation loss is 116.675915735631% greater than training loss.\n",
      "\tRedefined: Validation loss is 484.2144294637739% greater than training loss.\n"
     ]
    }
   ],
   "source": [
    "EXPERIMENT_COUNT = 20\n",
    "\n",
    "def experiment_repeatedly(experiment: Callable[[], TrainingResult]):\n",
    "    ratio_sum = 0.0\n",
    "    for _ in range(EXPERIMENT_COUNT):\n",
    "        result = experiment()\n",
    "        ratio_sum += result.val_loss_list[-1] / result.train_loss_list[-1] * 100\n",
    "    return ratio_sum / EXPERIMENT_COUNT\n",
    "\n",
    "print(f\"After {EXPERIMENT_COUNT} experiments...\")\n",
    "print(f\"\\tOriginal: Validation loss is {experiment_repeatedly(experiment_original)}% greater than training loss.\")\n",
    "print(f\"\\tRedefined: Validation loss is {experiment_repeatedly(experiment_redefined)}% greater than training loss.\")"
   ]
  }
 ],
 "metadata": {
  "interpreter": {
   "hash": "6d450bc581c61e6a6913694de69e42a9f9e6c85ec3badee7d8675ebbee8d92d4"
  },
  "kernelspec": {
   "display_name": "Python 3.9.7 64-bit ('base': conda)",
   "language": "python",
   "name": "python3"
  },
  "language_info": {
   "codemirror_mode": {
    "name": "ipython",
    "version": 3
   },
   "file_extension": ".py",
   "mimetype": "text/x-python",
   "name": "python",
   "nbconvert_exporter": "python",
   "pygments_lexer": "ipython3",
   "version": "3.9.7"
  },
  "orig_nbformat": 4
 },
 "nbformat": 4,
 "nbformat_minor": 2
}
